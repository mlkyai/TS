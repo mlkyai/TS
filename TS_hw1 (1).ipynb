{
  "nbformat": 4,
  "nbformat_minor": 0,
  "metadata": {
    "colab": {
      "provenance": []
    },
    "kernelspec": {
      "name": "python3",
      "display_name": "Python 3"
    },
    "language_info": {
      "name": "python"
    }
  },
  "cells": [
    {
      "cell_type": "markdown",
      "source": [
        "**1. Entropy-Complexity Plane. Task here is to distinguish between chaotic and regular time series data.**"
      ],
      "metadata": {
        "id": "zE4BkkuF7ds2"
      }
    },
    {
      "cell_type": "code",
      "source": [
        "import numpy as np\n",
        "import math\n",
        "import itertools\n",
        "import matplotlib.pyplot as plt\n",
        "import warnings\n",
        "!pip install DBSCAN1D\n",
        "\n",
        "from tqdm import tqdm\n",
        "from scipy.spatial import distance\n",
        "from sklearn.cluster import DBSCAN\n",
        "from dbscan1d.core import DBSCAN1D"
      ],
      "metadata": {
        "id": "-gbVVtFe_TaO",
        "colab": {
          "base_uri": "https://localhost:8080/"
        },
        "outputId": "9d5fcf2c-8c47-44ca-9b47-3cc0a443486d"
      },
      "execution_count": 26,
      "outputs": [
        {
          "output_type": "stream",
          "name": "stdout",
          "text": [
            "Requirement already satisfied: DBSCAN1D in /usr/local/lib/python3.10/dist-packages (0.2.2)\n",
            "Requirement already satisfied: numpy>=1.13.0 in /usr/local/lib/python3.10/dist-packages (from DBSCAN1D) (1.23.5)\n"
          ]
        }
      ]
    },
    {
      "cell_type": "code",
      "source": [
        "!wget https://raw.githubusercontent.com/mlkyai/TS/main/lorenz.txt"
      ],
      "metadata": {
        "colab": {
          "base_uri": "https://localhost:8080/"
        },
        "id": "CNWplbDnfc_6",
        "outputId": "ec5af002-e1b9-4005-b4eb-41791c4ec792"
      },
      "execution_count": 27,
      "outputs": [
        {
          "output_type": "stream",
          "name": "stdout",
          "text": [
            "--2023-12-23 20:47:08--  https://raw.githubusercontent.com/mlkyai/TS/main/lorenz.txt\n",
            "Resolving raw.githubusercontent.com (raw.githubusercontent.com)... 185.199.109.133, 185.199.111.133, 185.199.108.133, ...\n",
            "Connecting to raw.githubusercontent.com (raw.githubusercontent.com)|185.199.109.133|:443... connected.\n",
            "HTTP request sent, awaiting response... 200 OK\n",
            "Length: 2500025 (2.4M) [text/plain]\n",
            "Saving to: ‘lorenz.txt.3’\n",
            "\n",
            "\rlorenz.txt.3          0%[                    ]       0  --.-KB/s               \rlorenz.txt.3        100%[===================>]   2.38M  --.-KB/s    in 0.01s   \n",
            "\n",
            "2023-12-23 20:47:08 (159 MB/s) - ‘lorenz.txt.3’ saved [2500025/2500025]\n",
            "\n"
          ]
        }
      ]
    },
    {
      "cell_type": "code",
      "source": [
        "!ls"
      ],
      "metadata": {
        "colab": {
          "base_uri": "https://localhost:8080/"
        },
        "id": "AI4b-PR9gzRE",
        "outputId": "06230155-c3a1-449a-b258-a44a0c654f7a"
      },
      "execution_count": 28,
      "outputs": [
        {
          "output_type": "stream",
          "name": "stdout",
          "text": [
            "lorenz.txt  lorenz.txt.1  lorenz.txt.2\tlorenz.txt.3  sample_data\n"
          ]
        }
      ]
    },
    {
      "cell_type": "code",
      "source": [
        "# Skew tent map\n",
        "def skew_tent_map(n=2**15, omega=0.1847, x0=.5):\n",
        "    x = np.zeros(n)\n",
        "    x[0] = x0\n",
        "    for i in range(1, len(x)):\n",
        "        if x[i-1] < omega:\n",
        "            x[i] = x[i-1]/omega\n",
        "        else:\n",
        "            x[i] = (1-x[i-1])/(1-omega)\n",
        "    return x"
      ],
      "metadata": {
        "id": "u8jSnjNTkm_M"
      },
      "execution_count": 29,
      "outputs": []
    },
    {
      "cell_type": "code",
      "source": [
        "# Logistic map\n",
        "def logistic_map(n=2**15, r=4, x0=.4):\n",
        "    x = np.zeros(n)\n",
        "    x[0] = x0\n",
        "    for i in range(n-1):\n",
        "        x[i+1] = r*x[i]*(1-x[i])\n",
        "    return x"
      ],
      "metadata": {
        "id": "Lstv33HTksyN"
      },
      "execution_count": 30,
      "outputs": []
    },
    {
      "cell_type": "code",
      "source": [
        "# Schuster's map\n",
        "def schuster_map(n=2**15, z=2, x0=.5):\n",
        "    z = float(z)\n",
        "    x = np.zeros(n)\n",
        "    x[0] = x0\n",
        "    for i in range(1, n):\n",
        "        x[i], _ = np.modf(x[i-1] + x[i-1]**z)\n",
        "    return x"
      ],
      "metadata": {
        "id": "lqN1SRt0ku9e"
      },
      "execution_count": 31,
      "outputs": []
    },
    {
      "cell_type": "code",
      "source": [
        "# Henon map\n",
        "def henon_map(n=1000000, a=1.4, b=0.3, x0=.4):\n",
        "    x = np.zeros(n)\n",
        "    x[0] = x0\n",
        "    for i in range(1, len(x)):\n",
        "        x[i] = 1 - a * x[i-1] ** 2 + b * x[i-1]\n",
        "    return x"
      ],
      "metadata": {
        "id": "RUlC4QlMkw3D"
      },
      "execution_count": 32,
      "outputs": []
    },
    {
      "cell_type": "markdown",
      "source": [
        "### Sine Dataset (Deterministic)"
      ],
      "metadata": {
        "id": "5rgubk2wLzHF"
      }
    },
    {
      "cell_type": "code",
      "source": [
        "# Sine Dataset (Deterministic)\n",
        "sine_data = np.sin(np.arange(0,1000,.01))"
      ],
      "metadata": {
        "id": "DV7lT4OJk1bY"
      },
      "execution_count": 33,
      "outputs": []
    },
    {
      "cell_type": "markdown",
      "source": [
        "### Gaussian Noise (Stochastic)"
      ],
      "metadata": {
        "id": "FnTEX4sHL0OM"
      }
    },
    {
      "cell_type": "code",
      "source": [
        "# Gaussian Noise (Stochastic)\n",
        "gaussian_noise = np.random.normal(size=100000)"
      ],
      "metadata": {
        "id": "Rq4-ETbkk4gg"
      },
      "execution_count": 34,
      "outputs": []
    },
    {
      "cell_type": "code",
      "execution_count": 35,
      "metadata": {
        "id": "EeaEKSV-tTJZ"
      },
      "outputs": [],
      "source": [
        "def chunks(time_series, s):\n",
        "\n",
        "    # number of all possible chunks\n",
        "    num_chunks = len(time_series) - s + 1\n",
        "    chunks = np.zeros((num_chunks, s))\n",
        "    for i in range(num_chunks):\n",
        "      chunks[i] = time_series[i:i+s]\n",
        "    return chunks"
      ]
    },
    {
      "cell_type": "markdown",
      "source": [
        "**function for probability distribution,it calculates the frequency of each unique pattern in the chunks and returns a probability distribution based on the counts:**"
      ],
      "metadata": {
        "id": "zuFA57MCPfHs"
      }
    },
    {
      "cell_type": "code",
      "source": [
        "def calculate_probability_distribution(chunks, permutations):\n",
        "\n",
        "    # mapping from permutation tuples to their indices\n",
        "    permutation_indices = {perm: i for i, perm in enumerate(permutations)}\n",
        "\n",
        "    # an array of zeros with the length of permutations\n",
        "    distribution = np.zeros(len(permutations))\n",
        "\n",
        "    #the sorted indices\n",
        "    sorted_chunks = np.argsort(chunks, axis=1)\n",
        "\n",
        "    # occurrences of each unique pattern\n",
        "    for pattern in sorted_chunks:\n",
        "        pattern_tuple = tuple(pattern)\n",
        "        if pattern_tuple in permutation_indices:\n",
        "            distribution[permutation_indices[pattern_tuple]] += 1\n",
        "\n",
        "    # Normalized distribution\n",
        "    distribution /= distribution.sum()\n",
        "\n",
        "    return distribution"
      ],
      "metadata": {
        "id": "VXF3HcVuPK2V"
      },
      "execution_count": 36,
      "outputs": []
    },
    {
      "cell_type": "markdown",
      "source": [
        "**Function for Shannon entropy, iterates over elemnts of a probability distribution and computesentropy contribution of each valid value. Higher values indicates greater uncertainty:**"
      ],
      "metadata": {
        "id": "jFhndWlSa_cb"
      }
    },
    {
      "cell_type": "markdown",
      "source": [
        "**P** - probability distribution"
      ],
      "metadata": {
        "id": "F6oSfzfTeTvE"
      }
    },
    {
      "cell_type": "code",
      "source": [
        "def shannon_entropy(probabilities):\n",
        "\n",
        "    # non-positive probability values\n",
        "    positive_probs = probabilities[probabilities > 0]\n",
        "\n",
        "    # vectorized entropy calculation\n",
        "    sh_entropy = -np.sum(positive_probs * np.log(positive_probs))\n",
        "\n",
        "    return sh_entropy"
      ],
      "metadata": {
        "id": "d5hciz22QyVF"
      },
      "execution_count": 37,
      "outputs": []
    },
    {
      "cell_type": "markdown",
      "source": [
        "**Divergence measure between input probability distribution and uniform distribution:**  \n",
        "\n",
        "\n",
        "\n",
        " **N** - total number of patterns"
      ],
      "metadata": {
        "id": "g3K44F0Xcdt5"
      }
    },
    {
      "cell_type": "code",
      "source": [
        "def qj_divergence(N, P):\n",
        "\n",
        "    # the constant Q0\n",
        "    Q0 = -2 / (((N + 1) / N) * np.log(N + 1) - 2 * np.log(2 * N) + np.log(N))\n",
        "\n",
        "    # equal probabilities array\n",
        "    Pe = np.full_like(P, 1 / N)\n",
        "\n",
        "    # divergence using Shannon entropy\n",
        "    average_Pe_P = (P + Pe) / 2\n",
        "    entropy_average = -np.sum(average_Pe_P[average_Pe_P > 0] * np.log(average_Pe_P[average_Pe_P > 0]))\n",
        "    entropy_P = -np.sum(P[P > 0] * np.log(P[P > 0]))\n",
        "    Qj = Q0 * (entropy_average - entropy_P / 2 - np.log(N) / 2)\n",
        "\n",
        "    return Qj"
      ],
      "metadata": {
        "id": "CsSC_XiUTah2"
      },
      "execution_count": 38,
      "outputs": []
    },
    {
      "cell_type": "markdown",
      "source": [
        "**Function for Entropy Complexity:**\n",
        "- **Hs** - normalized entropy measure\n",
        "- **Cjs** - complexity measure combining entropy and divergence\n",
        "- **d** - parameter for chunking the TS\n",
        "- **permutations** -  list of permutations of patterns"
      ],
      "metadata": {
        "id": "uWsChwxCQf0i"
      }
    },
    {
      "cell_type": "code",
      "source": [
        "def entropy_complexity(time_series, d, permutations):\n",
        "    # probability distribution of TS\n",
        "    chunk_list = chunks(time_series, d)\n",
        "    probability_distribution = calculate_probability_distribution(chunk_list, permutations)\n",
        "\n",
        "    # Shannon entropy.\n",
        "    shannon_entropy = -np.sum(probability_distribution[probability_distribution > 0] *\n",
        "                              np.log(probability_distribution[probability_distribution > 0]))\n",
        "\n",
        "    # maximum possible entropy\n",
        "    max_entropy = np.log(len(probability_distribution))\n",
        "\n",
        "    # normalized entropy 'Hs'\n",
        "    normalized_entropy = shannon_entropy / max_entropy\n",
        "\n",
        "    # complexity measure 'Cjs'.\n",
        "    complexity_measure = qj_divergence(probability_distribution.size, probability_distribution) * normalized_entropy\n",
        "\n",
        "    return normalized_entropy, complexity_measure"
      ],
      "metadata": {
        "id": "3_o9qKKESw0N"
      },
      "execution_count": 39,
      "outputs": []
    },
    {
      "cell_type": "markdown",
      "source": [
        "**Behavior of entropy and complexity measures for different distributions obtained by varying a step parameter:**"
      ],
      "metadata": {
        "id": "kye_VskqUIZT"
      }
    },
    {
      "cell_type": "code",
      "source": [
        "def min_complexity():\n",
        "\n",
        "    # total number of elements in distribution\n",
        "    N = 1000\n",
        "\n",
        "    # an array of step parameters\n",
        "    steps = np.arange(0.005, 1.005, 0.005)\n",
        "\n",
        "    entropy = np.zeros_like(steps)\n",
        "    complexity = np.zeros_like(steps)\n",
        "\n",
        "    for idx, step in enumerate(steps):\n",
        "        distribution = np.full(N, (1 - step) / (N - 1))\n",
        "        distribution[0] = step\n",
        "        entropy[idx] = shannon_entropy(distribution) / np.log(N)\n",
        "        complexity[idx] = qj_divergence(N, distribution) * entropy[idx]\n",
        "\n",
        "    return entropy, complexity"
      ],
      "metadata": {
        "id": "r8p5eKSQUOr2"
      },
      "execution_count": 40,
      "outputs": []
    },
    {
      "cell_type": "markdown",
      "source": [
        "**function shows behavior of entropy and complexity measures for different distributions based on the value of 'd':**"
      ],
      "metadata": {
        "id": "C4L4XBFLYsOP"
      }
    },
    {
      "cell_type": "code",
      "source": [
        "def max_complexity(d):\n",
        "    # total number of permutations\n",
        "    N = math.factorial(d)\n",
        "\n",
        "    entropy = []\n",
        "    complexity = []\n",
        "\n",
        "    for i in range(N - 1):\n",
        "        # steps for the distribution\n",
        "        steps = np.linspace(0, 1 / (N - i), int((1 - 1 / N) * 100) + 1)[:-1]\n",
        "        for step in steps:\n",
        "            distribution = np.full(N, (1 - step) / (N - i - 1))\n",
        "            distribution[0] = step\n",
        "            if i > 0:\n",
        "                distribution[-i:] = 0\n",
        "\n",
        "            # normalized Shannon entropy\n",
        "            current_entropy = shannon_entropy(distribution) / np.log(N)\n",
        "            entropy.append(current_entropy)\n",
        "\n",
        "            # Complexity\n",
        "            current_complexity = qj_divergence(N, distribution) * current_entropy\n",
        "            complexity.append(current_complexity)\n",
        "\n",
        "    return np.array(entropy), np.array(complexity)"
      ],
      "metadata": {
        "id": "AWSs_95HV_T1"
      },
      "execution_count": 41,
      "outputs": []
    },
    {
      "cell_type": "markdown",
      "source": [
        "**the entropy and complexity for both minimum and maximum cases:**"
      ],
      "metadata": {
        "id": "YLafiTPzmExG"
      }
    },
    {
      "cell_type": "code",
      "source": [
        "# value of number of elements\n",
        "d = 6\n",
        "\n",
        "# list of all integer permutations\n",
        "permutations = list(itertools.permutations(range(d)))\n",
        "\n",
        "# minimum entropy and complexity for a range of distributions\n",
        "x_min, y_min = min_complexity()\n",
        "\n",
        "# maximum_entropy_complexity\n",
        "x_max, y_max = max_complexity(d)"
      ],
      "metadata": {
        "id": "HzaFfJ35yKeL"
      },
      "execution_count": 42,
      "outputs": []
    },
    {
      "cell_type": "code",
      "source": [
        "# File path for the data file\n",
        "file_path = \"lorenz.txt\"\n",
        "\n",
        "# convertion of file to an array\n",
        "lorenz_TS = np.loadtxt(file_path)\n",
        "\n",
        "# Take the first 10000 elements from the series\n",
        "lorenz_data = lorenz_TS[:10000]\n"
      ],
      "metadata": {
        "id": "cJnhagPLYfaz"
      },
      "execution_count": 43,
      "outputs": []
    },
    {
      "cell_type": "markdown",
      "source": [
        "**calculations and analyses on different time series data, including chaotic maps and sine wave data, Gaussian noise data, Lorenz TS data by computing their entropy and complexity measures:**"
      ],
      "metadata": {
        "id": "tO4LSo2Ojs_v"
      }
    },
    {
      "cell_type": "code",
      "source": [
        "# Maps and their corresponding functions\n",
        "maps = {\n",
        "    \"skew_tent_map\": skew_tent_map,\n",
        "    \"logistic_map\": logistic_map,\n",
        "    \"schuster_map\": schuster_map,\n",
        "    \"henon_map\": henon_map,\n",
        "    \"sine_data\": lambda: sine_data,\n",
        "    \"gaussian_noise\": lambda: gaussian_noise,\n",
        "    \"lorenz_data\": lambda: lorenz_data\n",
        "}\n",
        "\n",
        "# dictionaries for entropy and complexity values\n",
        "Hs_values = {}\n",
        "Cjs_values = {}\n",
        "\n",
        "# entropy and complexity for each map\n",
        "for map_name, map_func in maps.items():\n",
        "    time_series = map_func()[:10000]\n",
        "    Hs, Cjs = entropy_complexity(time_series, d, permutations)\n",
        "    Hs_values[map_name] = Hs\n",
        "    Cjs_values[map_name] = Cjs\n",
        "\n",
        "# Scatter plot for entropy vs complexity\n",
        "plt.plot(x_min, y_min, c='blue', linewidth=0.7)\n",
        "plt.plot(x_max, y_max, c='orange', linewidth=0.7)\n",
        "\n",
        "# Colors and markers for different maps\n",
        "colors_markers = {\n",
        "    \"skew_tent_map\": ('blue', 'o'),\n",
        "    \"logistic_map\": ('green', '+'),\n",
        "    \"schuster_map\": ('violet', '*'),\n",
        "    \"henon_map\": ('gray', 's'),\n",
        "    \"sine_data\": ('red', 'o'),\n",
        "    \"gaussian_noise\": ('brown', 'o'),\n",
        "    \"lorenz_data\": ('pink', 'o')\n",
        "}\n",
        "\n",
        "# scatter plots for each map\n",
        "for map_name, (color, marker) in colors_markers.items():\n",
        "    plt.scatter(Hs_values[map_name], Cjs_values[map_name], label=map_name, c=color, marker=marker)\n",
        "\n",
        "plt.xlim(0, 1)\n",
        "plt.ylim(0, 1)\n",
        "plt.xlabel('Entropy')\n",
        "plt.ylabel('Complexity')\n",
        "plt.legend()\n",
        "plt.show()\n"
      ],
      "metadata": {
        "colab": {
          "base_uri": "https://localhost:8080/",
          "height": 455
        },
        "id": "bphBTyl6awgW",
        "outputId": "233e3714-c10d-4fa5-d6f4-6634560fb199"
      },
      "execution_count": 44,
      "outputs": [
        {
          "output_type": "display_data",
          "data": {
            "text/plain": [
              "<Figure size 640x480 with 1 Axes>"
            ],
            "image/png": "[encoded data removed]"
          },
          "metadata": {}
        }
      ]
    },
    {
      "cell_type": "markdown",
      "source": [
        "**Analysis:**\n",
        "\n",
        "Sine function and Gaussian noise have low complexity scores. The reason -  their predictable and random natures. Chaotic maps are spread across the plot, each showing unique entropy-complexity relationships. It indicates diverse behaviors within chaotic systems.\n",
        "Gaussian noise has a high entropy score, aligning with expected high unpredictability of noise.\n",
        "Lorenz TS data points are on opposite ends of complexity scale. It indicates different regimes and parameters within the Lorenz system that exhibit different characteristics.\n",
        "Relationship between entropy and complexity is not linear and simple. Different systems exhibit high complexity with varying levels of entropy, and vice versa. This visualization is particularly useful in studying dynamical systems, chaos theory, and information theory. It helps to categorize systems according to their behavioral characteristics."
      ],
      "metadata": {
        "id": "LcIsvmn8m0rz"
      }
    }
  ]
}