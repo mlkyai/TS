{
  "nbformat": 4,
  "nbformat_minor": 0,
  "metadata": {
    "colab": {
      "provenance": []
    },
    "kernelspec": {
      "name": "python3",
      "display_name": "Python 3"
    },
    "language_info": {
      "name": "python"
    }
  },
  "cells": [
    {
      "cell_type": "markdown",
      "source": [
        "**Largest Lyapunov method**"
      ],
      "metadata": {
        "id": "ojVsbaRDpY0C"
      }
    },
    {
      "cell_type": "markdown",
      "source": [
        "The Largest Lyapunov Exponent (LLE) method is an important tool for analyzing dynamical systems, particularly for determining the presence and degree of chaos. The calculation involves creating a time series of chunks, then computing a distance matrix to measure how these chunks diverge over time. This process is part of the broader LLE calculation."
      ],
      "metadata": {
        "id": "44UR5bjMsgZZ"
      }
    },
    {
      "cell_type": "code",
      "source": [
        "import numpy as np\n",
        "import math\n",
        "import itertools\n",
        "import matplotlib.pyplot as plt\n",
        "import warnings\n",
        "!pip install DBSCAN1D\n",
        "\n",
        "from tqdm import tqdm\n",
        "from scipy.spatial import distance\n",
        "from sklearn.cluster import DBSCAN\n",
        "from dbscan1d.core import DBSCAN1D"
      ],
      "metadata": {
        "colab": {
          "base_uri": "https://localhost:8080/"
        },
        "id": "y9QK7KiHqYiF",
        "outputId": "4b57cfde-3ab7-4a43-fff3-e8928135dd81"
      },
      "execution_count": 1,
      "outputs": [
        {
          "output_type": "stream",
          "name": "stdout",
          "text": [
            "Requirement already satisfied: DBSCAN1D in /usr/local/lib/python3.10/dist-packages (0.2.2)\n",
            "Requirement already satisfied: numpy>=1.13.0 in /usr/local/lib/python3.10/dist-packages (from DBSCAN1D) (1.23.5)\n"
          ]
        }
      ]
    },
    {
      "cell_type": "code",
      "source": [
        "!wget https://raw.githubusercontent.com/mlkyai/TS/main/lorenz.txt"
      ],
      "metadata": {
        "colab": {
          "base_uri": "https://localhost:8080/"
        },
        "id": "23_fmj84ptIw",
        "outputId": "7599c871-fad4-4312-bd03-637a83f8e34d"
      },
      "execution_count": 2,
      "outputs": [
        {
          "output_type": "stream",
          "name": "stdout",
          "text": [
            "--2023-12-23 21:15:08--  https://raw.githubusercontent.com/mlkyai/TS/main/lorenz.txt\n",
            "Resolving raw.githubusercontent.com (raw.githubusercontent.com)... 185.199.109.133, 185.199.108.133, 185.199.110.133, ...\n",
            "Connecting to raw.githubusercontent.com (raw.githubusercontent.com)|185.199.109.133|:443... connected.\n",
            "HTTP request sent, awaiting response... 200 OK\n",
            "Length: 2500025 (2.4M) [text/plain]\n",
            "Saving to: ‘lorenz.txt.2’\n",
            "\n",
            "\rlorenz.txt.2          0%[                    ]       0  --.-KB/s               \rlorenz.txt.2        100%[===================>]   2.38M  --.-KB/s    in 0.07s   \n",
            "\n",
            "2023-12-23 21:15:08 (36.3 MB/s) - ‘lorenz.txt.2’ saved [2500025/2500025]\n",
            "\n"
          ]
        }
      ]
    },
    {
      "cell_type": "code",
      "source": [
        "!ls"
      ],
      "metadata": {
        "colab": {
          "base_uri": "https://localhost:8080/"
        },
        "id": "aqje0iJarej8",
        "outputId": "301051c7-27ce-45d4-ec0a-0526378e5c8c"
      },
      "execution_count": 3,
      "outputs": [
        {
          "output_type": "stream",
          "name": "stdout",
          "text": [
            "lorenz.txt  lorenz.txt.1  lorenz.txt.2\tsample_data\n"
          ]
        }
      ]
    },
    {
      "cell_type": "code",
      "source": [
        "def chunks(time_series, s):\n",
        "\n",
        "    # number of all possible chunks\n",
        "    num_chunks = len(time_series) - s + 1\n",
        "    chunks = np.zeros((num_chunks, s))\n",
        "    for i in range(num_chunks):\n",
        "      chunks[i] = time_series[i:i+s]\n",
        "    return chunks"
      ],
      "metadata": {
        "id": "yBpSB4tad-2E"
      },
      "execution_count": 4,
      "outputs": []
    },
    {
      "cell_type": "code",
      "source": [
        "def calculate_distance_matrix(chunks_list, num_chunks):\n",
        "    # distance matrix\n",
        "    distance_matrix = np.zeros((num_chunks, num_chunks))\n",
        "\n",
        "    # pairwise distances\n",
        "    for i in range(num_chunks):\n",
        "        distances = np.linalg.norm(chunks_list[i] - chunks_list, axis=1)\n",
        "        distance_matrix[i, :] = distances\n",
        "\n",
        "    return distance_matrix"
      ],
      "metadata": {
        "id": "JkOrnqKjk2Yl"
      },
      "execution_count": 9,
      "outputs": []
    },
    {
      "cell_type": "code",
      "source": [
        "def calculate_LLE(time_series, start, finish, s, k, epsilon):\n",
        "    # TS chunks\n",
        "    chunks_list = chunks(time_series[start:finish + k], s)\n",
        "    # num_chunks = finish - start - s + 1\n",
        "    num_chunks = len(chunks_list)\n",
        "\n",
        "    # Distance matrix\n",
        "    distance_matrix = calculate_distance_matrix(chunks_list, num_chunks)\n",
        "\n",
        "    # Indices of neighbors within epsilon distance\n",
        "    keep_index = []\n",
        "    for i in range(num_chunks - k):\n",
        "        neighbors = [j for j in range(num_chunks) if distance_matrix[i, j] < epsilon and abs(j - i) > 2 * s]\n",
        "        keep_index.append(neighbors)\n",
        "\n",
        "    # Largest Lyapunov Exponent\n",
        "    LLE = sum(np.log(distance_matrix[i + k, n + k] / distance_matrix[i, n])\n",
        "              for i in range(num_chunks - k) for n in keep_index[i] if n < num_chunks - k)\n",
        "    LLE /= k * (num_chunks - k)\n",
        "\n",
        "    return LLE"
      ],
      "metadata": {
        "id": "m1eUgs28fTPo"
      },
      "execution_count": 16,
      "outputs": []
    },
    {
      "cell_type": "code",
      "source": [
        "# File path for the data file\n",
        "file_path = \"lorenz.txt\"\n",
        "\n",
        "# convertion of file to an array\n",
        "TS = np.loadtxt(file_path)\n",
        "\n",
        "print(calculate_LLE(TS, 1, 1000, s=10, k=10, epsilon= 0.5))"
      ],
      "metadata": {
        "colab": {
          "base_uri": "https://localhost:8080/"
        },
        "id": "fvQSJaWQeMk9",
        "outputId": "b96d9cb2-b31e-4002-c93b-7631bd011bbc"
      },
      "execution_count": 17,
      "outputs": [
        {
          "output_type": "stream",
          "name": "stdout",
          "text": [
            "9.45310588450371\n"
          ]
        }
      ]
    }
  ]
}